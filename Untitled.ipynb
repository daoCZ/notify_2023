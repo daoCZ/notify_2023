{
 "cells": [
  {
   "cell_type": "code",
   "execution_count": 3,
   "metadata": {},
   "outputs": [],
   "source": [
    "import tweepy\n",
    "from tweepy import API\n",
    "from tweepy import Cursor"
   ]
  },
  {
   "cell_type": "code",
   "execution_count": 17,
   "metadata": {},
   "outputs": [
    {
     "name": "stdout",
     "output_type": "stream",
     "text": [
      "<class 'datetime.datetime'>\n"
     ]
    }
   ],
   "source": [
    "\n",
    "api_key = \"a18RC9dAF80Sbm3fplVSMzbEn\"\n",
    "api_key_secret =  \"bbD1BMVnkP6R0Fvi9t16Q9Fjvc9JpU7cwHD8h0uOIgCwv2i7Zo\"\n",
    "\n",
    "access_token = \"1511094339400835073-E84Wh4yaVDVP7hmDEEcPpevTrFjzRA\"\n",
    "access_token_secret = \"kZpGnuhG5K92NcHCvbm1hDdkyR6JHNxNCce4MjoSB0KT2\"\n",
    "\n",
    "\n",
    "\n",
    "\n",
    "# authorization of consumer key and consumer secret\n",
    "auth = tweepy.OAuthHandler(api_key, api_key_secret)\n",
    "\n",
    "# set access to user's access key and access secret \n",
    "auth.set_access_token(access_token, access_token_secret)\n",
    "\n",
    "\n",
    "api = tweepy.API(auth)\n",
    "\n",
    "user = api.get_user(screen_name=\"Anthony22108808\")\n",
    "id = user.id\n",
    "\n",
    "new_tweets = api.user_timeline(user_id=id,count=5, tweet_mode=\"extended\")\n",
    "#print(new_tweets)\n",
    "#print(api.get_user(user_id=id)._json.get('name'))\n",
    "\n",
    "#for tweet in new_tweets:\n",
    "    #print(tweet._json.get(\"name\"))\n",
    "    #print(tweet._json.get(\"text\"))\n",
    "\n",
    "sname = \"@tarik\"\n",
    "\n",
    "count = 0\n",
    "result_set =[]\n",
    "result_item = []\n",
    "\n",
    "for status in tweepy.Cursor(api.user_timeline, screen_name=\"@tarik\", tweet_mode=\"extended\").items():\n",
    "    result_item = []\n",
    "    if(len(status._json.get('entities').get(\"user_mentions\")) == 0):\n",
    "        result_item.append(sname)\n",
    "        result_item.append(status.user.profile_image_url)\n",
    "        result_item.append(\"https://twitter.com/twitter/statuses/\" + status.id_str)\n",
    "        result_item.append(status.created_at)\n",
    "        result_item.append(status.full_text)\n",
    "                           \n",
    "        #print(sname)\n",
    "        #print(status.user.profile_image_url)\n",
    "        #print(\"https://twitter.com/twitter/statuses/\" + status.id_str)\n",
    "        #print(status.created_at)\n",
    "        #print(status.full_text)\n",
    "        #print()\n",
    "        count = count + 1\n",
    "        result_set.append(result_item)\n",
    "        continue\n",
    "    else:\n",
    "        result_item.append(status._json.get('entities').get(\"user_mentions\")[0].get('screen_name'))\n",
    "        result_item.append(status.user.profile_image_url)\n",
    "        result_item.append(\"https://twitter.com/twitter/statuses/\" + status.id_str)\n",
    "        result_item.append(status.created_at)\n",
    "        result_item.append(status.full_text)\n",
    "        count = count + 1\n",
    "        result_set.append(result_item)\n",
    "        #print(status.user.profile_image_url)\n",
    "        #print(status._json.get('entities').get(\"user_mentions\")[0].get('screen_name'))\n",
    "        #print(\"https://twitter.com/twitter/statuses/\" + status.id_str)\n",
    "        #print(status.created_at)\n",
    "        #print(status.full_text)\n",
    "        #print()\n",
    "    if (count == 5):\n",
    "        break\n",
    "print(result_set[1][3])"
   ]
  },
  {
   "cell_type": "code",
   "execution_count": null,
   "metadata": {},
   "outputs": [],
   "source": []
  }
 ],
 "metadata": {
  "kernelspec": {
   "display_name": "Python 3",
   "language": "python",
   "name": "python3"
  },
  "language_info": {
   "codemirror_mode": {
    "name": "ipython",
    "version": 3
   },
   "file_extension": ".py",
   "mimetype": "text/x-python",
   "name": "python",
   "nbconvert_exporter": "python",
   "pygments_lexer": "ipython3",
   "version": "3.7.3"
  }
 },
 "nbformat": 4,
 "nbformat_minor": 2
}
